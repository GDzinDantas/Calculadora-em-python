{
  "nbformat": 4,
  "nbformat_minor": 0,
  "metadata": {
    "colab": {
      "provenance": [],
      "authorship_tag": "ABX9TyOb4sjZZW5e4W8ET3IRooqX",
      "include_colab_link": true
    },
    "kernelspec": {
      "name": "python3",
      "display_name": "Python 3"
    },
    "language_info": {
      "name": "python"
    }
  },
  "cells": [
    {
      "cell_type": "markdown",
      "metadata": {
        "id": "view-in-github",
        "colab_type": "text"
      },
      "source": [
        "<a href=\"https://colab.research.google.com/github/GDzinDantas/Calculadora-em-python/blob/main/Calculadora.ipynb\" target=\"_parent\"><img src=\"https://colab.research.google.com/assets/colab-badge.svg\" alt=\"Open In Colab\"/></a>"
      ]
    },
    {
      "cell_type": "code",
      "source": [
        "op = int(input(\" 1. soma \\n 2. subtração \\n 3. multiplicação \\n 4. divisão \\n escolher uma letra: \"))\n",
        "\n",
        "x = int(input(\"numero 1: \"))\n",
        "y = int(input(\"numero 2: \"))\n",
        "\n",
        "if  op == 1:\n",
        "  resultado = x + y\n",
        "  print(\"resposta:\",resultado)\n",
        "elif op == 2:\n",
        "  resultado = x - y\n",
        "  print(\"resposta:\",resultado)\n",
        "elif op == 3:\n",
        "  resultado = x * y\n",
        "  print(\"resposta:\",resultado)\n",
        "elif op == 4:\n",
        " if  y == 0:\n",
        "  print(\"não é possivel dividir:\")\n",
        "else:\n",
        "  resultado = x / y\n",
        "  print(\"resposta:\",resultado)\n"
      ],
      "metadata": {
        "id": "7JgZdL7PCQxT"
      },
      "execution_count": null,
      "outputs": []
    }
  ]
}